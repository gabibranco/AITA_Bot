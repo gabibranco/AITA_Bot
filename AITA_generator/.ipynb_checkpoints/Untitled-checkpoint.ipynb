{
 "cells": [
  {
   "cell_type": "code",
   "execution_count": 1,
   "metadata": {},
   "outputs": [],
   "source": [
    "import praw\n",
    "import os"
   ]
  },
  {
   "cell_type": "code",
   "execution_count": 2,
   "metadata": {},
   "outputs": [],
   "source": [
    "reddit = praw.Reddit(\n",
    "    client_id = os.getenv(\"CLIENT_ID\"),\n",
    "    client_secret = os.getenv(\"CLIENT_SECRET\"),\n",
    "    user_agent= os.getenv(\"USER_AGENT\")\n",
    ")"
   ]
  },
  {
   "cell_type": "code",
   "execution_count": 3,
   "metadata": {},
   "outputs": [
    {
     "name": "stdout",
     "output_type": "stream",
     "text": [
      "True\n"
     ]
    }
   ],
   "source": [
    "print(reddit.read_only)"
   ]
  },
  {
   "cell_type": "code",
   "execution_count": 4,
   "metadata": {},
   "outputs": [
    {
     "name": "stdout",
     "output_type": "stream",
     "text": [
      "Love Fest Holiday blow out\n",
      "I (31m) met my gf's (25f) friends this week and I'm 100% sure I matched with her best friend on a dating app very recently who is in a longterm relationship.\n",
      "My (15F) closest friend (19F) is upset with me liking a girl\n",
      "Wife (27) wants to lose weight. She says I (30) am unsupportive.\n",
      "Just found out my gf (F25) cheated on me (F25) on Thanksgiving\n",
      "I (25f) may have let my resentment for my parents ruin my relationship with my sister(23f), and I don't know what kind of relationship to pursue with her now..\n",
      "My [30F] relationship with my older brother [35M] is strained because he keeps choosing to stay with his abusive girlfriend [36F]\n",
      "My dad (65M) is threatening to leave our family\n",
      "My father [64] is a nightmare and gave me and my wife the worst Thanksgiving of our lives.\n",
      "Someone I’ve (20f) been talking to (21f) is expecting way too much for me and I feel stuck.\n"
     ]
    }
   ],
   "source": [
    "for submission in reddit.subreddit(\"relationships\").hot(limit=10):\n",
    "    print(submission.title)"
   ]
  },
  {
   "cell_type": "code",
   "execution_count": 5,
   "metadata": {},
   "outputs": [
    {
     "name": "stdout",
     "output_type": "stream",
     "text": [
      "How is everyone doing? We need to hear your happy stories!\n",
      "Met my gfs best and closest friend today and the second I saw her my stomach dropped. I am 100% positive I matched with her on a dating app very recently. I deleted my apps so I can't go back and look but I am certain it was her. She literally couldn't look at me and everyone there could notice something was wrong and she even made an excuse to go back into a restaurant we were at for basically the entire brunch. I've only been seeing my gf for a month or so now and it's a dream come true but I have no idea what to do. I dont have any hard proof, I JUST started dating this girl and im absolutely bonkers for her but I've never been so sure about something in my entire life. Do i confront her? or should i tell my gf? I already asked her if any of her friends are in an open relationship and it's possible they dont tell anyone but my gf and this girl have been best friends for well over a decade so I feel like she would have told her. Could really use some advice!\n",
      "\n",
      "should also mention that our conversation on the app was VERY sexually charged and i got the sense she was drunk and wanted to meet up that night but I declined.\n",
      "\n",
      "tldr: matched with my gf's best friend very recently on a dating app who is in a long term relationship and i'm not sure how to proceed\n",
      "so Jane (19f) is my (15f) closest friend; we haven’t met irl, but we spend a lot of time talking online; it’s hard for me to make friends bc of my autism but she’s very supportive of me, she listens to me talk about my interests, & she really treasures my company & says i’m the only one who understands her; she also has mental health issues, so we’re kind of each other’s support systems.\n",
      "\n",
      "she sometimes likes to joke around about how we’re so close we could be dating (she’s a lesbian & i’m bi) and how special i am to her (i think it’s cute, nobody has been like that toward me before) and how she’d date me were i a bit older. these jokes don’t bother me (& honestly, make me feel kind of special; it’s nice to be liked for a change) altho i don’t understand whether she actually likes me in some romantic way or just finds it a funny thing to joke about, but i’m mentioning them bc they kind of provide context for my question i guess. \n",
      "\n",
      "the question is, i met a girl irl (let’s say Laura, 15) a few months ago whom i really like & who makes me happy (we’re friends and i maybe like her, idk), and i talk to Jane about her bc i kind of tell Jane everything, but whenever i mentioned Laura, Jane either joked that it makes her jealous that i like other girls who aren’t her or got irritated & changed the subject & either way she seemed upset with me afterwards. i stopped talking to her about Laura, obviously, bc i don’t want to make her upset, but it’s staring to make me wonder if it would be wrong of me to continue hanging out with Laura bc of this whole situation? i just feel kind of guilty because 1) wouldn’t it be lying to Jane if i continued to hang out with Laura without telling her bc i tell her everything but not that? 2) maybe i don’t understand something & she’s right to be upset bc i’m cheating on her in some way? \n",
      "\n",
      "**tl; dr: my (15f) closest friend (19f) who jokes about wanting to date me is upset about me liking another girl, is it wrong for me to continue hanging out with that other girl?**\n",
      "Ok so my wife has recently taken some weight after battling with a stagnating diet for a long time. She is not fat but she has some extra kg and her own weight goal that she never seems to achieve.\n",
      "\n",
      "Every time she decides losing some weight, I suddenly get some food restrictions too. To be clear, I am fine with it up to a certain point.\n",
      "\n",
      "I am fine trying to cook a bit more healthy with her but sometimes I want to eat some junk food/chocolate/sugary thing. I am genuinely happy when she manages to lose some weight because I see her happier and that it's a confidence for her.\n",
      "\n",
      "However, she keeps saying I don't care or don't support her because I keep eating whatever I want with no remorse over tempting her with junk. I make some efforts but yeah I assume it's her diet and not mine. For information, I still lost like 3kg since she started the diet (and she lost barely 1kg) which probably makes things worse.\n",
      "\n",
      "Tonight I wanted to invite a couple of friends and suggested making some desert. She started getting pissed at me and this started a huge fight.\n",
      "\n",
      "She's also mad when I try to give some advice (ie: watch quantity too, not only quality) because she says I have it easy and it's easy to say when I can eat whatever I want without taking extra weight.\n",
      "\n",
      "Am I in the wrong?\n",
      "\n",
      "Can I still show support without restricting myself too much?\n",
      "\n",
      "TL:DR:\n",
      "Wife is mad at me for lack of support in her diet when I suggest eating or eat junk food.\n",
      "Long time lurker, first time poster. Sorry if this is a mess. I’m on mobile and my head is a mess right now.\n",
      "\n",
      "I met my now ex gf last year when we started working together at a business that her family owns. We were friendly at work and even hung out outside of work a few times. After she broke up with her ex bf earlier this year her and I quickly hit it off. We began an official couple in June. I thought things were great. We had fights just like every couple, but we were always able to communicate and make up. A few months ago she had a new roommate move in (M29). Who also happened to work with us. Well today I get a message out of the blue from her saying that she wants to break up and that she’s been feeling a distance between us. I told her that I didn’t understand where this was coming from and she admitted to being in love with her roommate. She then goes on to admit that she has sex with him last night. After we spent a great Thanksgiving together and even had sex before I went home that night. I just told her to give me my things and that I didn’t want to speak to or hear from her again. Along with all of the horrible feelings that getting cheated on and unless come with, I have to go to work and see the guy she cheated on me with! Her family owns the business I work for! I know this is partly my fault for getting involved with a coworker. I don’t know what to do. I feel so lost, hurt, and betrayed. I’m not even sure what I’m trying to achieve by posting here. I guess I could really use some support and advice.\n",
      "\n",
      "TLDR: Gf broke up with me because she’s in love with her roommate and cheated on me with him last night\n",
      "Some family context:\n",
      "I'm the oldest of 3 sisters. The sister in question is M (23f). Our other sister is special needs so our dynamic is different. \n",
      "\n",
      "Our parents divorced when I was 5. We saw our Dad on weekends and lived with our Mom during the week as she had full custody. We were fortunate enough to live in a middle class neighborhood with access to a well resourced school, but suffered financially as it was above our means and caused a lot of stress growing up. Both of our parents struggle with mental health. Dad held down a job but sufferred from some type of psychosis and depression, which ultimately killed him this past March. Our Mom suffers from an alcohol addiction that sends her into rages, frequent absenteeism, and the inability to keep a steady paying job for more than a few months at a time. \n",
      "\n",
      "When my sisters and I were little we fought with each other a lot and violently, over mostly stupid stuff (our parents disciplined us with hitting, and I think we internalized that the appropriate reaction to anger was violence as children). however we did spend a lot more time together at least.\n",
      "\n",
      "Additionally, our parents always came down hard on me to be more responsible and mature (our special needs sister saw me as a second mom when we were little). My parents said that it was my responsibility to watch over my sisters because I was the oldest, even though we were all close in age. They call this parentification now I think ? \n",
      "\n",
      "When I started school I really wanted to keep my school life separate from my family. I was unpopular, bullied, and embarrassed. I struggled to make friends until I was about 11. I didn't seek any type of solidarity or support with my sister, I just didn't share details about my life with her unless I had to. I don't know why I don't want to have that kind of relationship with her, but I just became uninterested in having a friendship with her beyond our family realm. \n",
      "\n",
      "When I did start making friends and saw how their parents treated them, I became a very resentful preteen/teenager. My mom always made acting like a parent seem so difficult. It was hard for her to do more than provide us with our basic needs. It was hard for her to spend time with us, take us places, sign us up for activities. Work so financially things would be better. She loved us in her way, but it was always obvious that she didn't enjoy being a mother the way my  friends mom's did, and I was / am angry at her for that. Combined with her drinking, she was all around unreliable /untrustworthy . We would make plans and she would show up hours later, drunk and mad at us because we were upset about missing our event. She never picked up the phone and left us alone at home so she could drink frequently when I was only 10. Later on she would get a DUI and be on probation for all of my highschool years. I was very involved in school activities and sports and we lived in a place where there was no infrastructure or public transportation. I had to talk teammates into giving me rides to games and eventually they would ask why my own mom, who doesn't work, couldn't take me places, and I would have to explain that she had her license taken away. It was humiliating. I hated that it felt like our Mom chose to make our lives harder. \n",
      "\n",
      "Instead of finding solidarity with my siblings, I completely shut them out. I think I lumped them in with the rest of my family as a burden I had to endure until I could get some independence. I never wanted her to hang out with me and my friends and never sought her emotional support. She's always been immature for her age (still is), and I've always been mature for my age, so I never needed her support, but it didn't occur to me until she told me recently that she felt I wanted nothing to do with her that it occurred to me she may have wanted mine. \n",
      "\n",
      "Now, we have no idea who each other are. It does not help that she and I are very different people. She is a very pretty, extroverted, performing arts/creative type. She enjoys cultivating her social media, doing make up, fashion. I am a very introverted, organized, reserved type person. I work as a project manager and spend all my time planning and organizing events, or reading and playing games online from time to time. I'm in shape and young so I'm not ugly, but I rarely focus on make up or take fashion risks, and I could care less about it. She interprets my quiet nature as cold and unfeeling. She's the type of person who needs to feel all of her emotions out loud and right away no matter the setting, where as I prefer to ruminate over them and push through the current situation before breaking down. She finds this deprave, while I find her method inconsiderate. We communicate terribly and often end up fighting over who treated who worse, whose fault is it that the relationship is sour. \n",
      "\n",
      "I want to move forward, but we don't like who each other are. She thinks we should be like best friends, and I don't actually care to have that type of relationship with her. I'd for us to support each other through family things, get dinner sometimes, have something to talk about, but I don't need or want her emotional support at this point, and she's hurt by this, even though in the past it's come back as cruelty from her when she gets mad about something. \n",
      "\n",
      "\n",
      "Anyone else let their childhood circumstances poison their sibling relationship? What did you do?\n",
      "\n",
      "TL;DR: I resent my parents for finding it hard to do right by us and shut out my sister in the process, don't know how we can start to fix it now.\n",
      "The title explains a lot. I know from a past experience with an abusive ex that it isn't always easy to leave someone who is toxic for you. I also have heard advice from others telling me to support my brother. I am hoping to get more insight than that. Hopefully, this whole pandemic situation will be resolved soon so I can afford a therapist too.\n",
      "\n",
      "My brother, John, can't seem to let go of his on-and-off girlfriend of 5 years, Lisa.  Honestly, Lisa is the closest person I can  call an utter POS.  She belittles John (often comparing him to other men or her exes), starts fights over the littlest of things, does not respect our family (she talks rudely to my mom, she shat on my career), and does not respect people in general (especially because she's a MD & thinks a lot of people work \"lowly\" jobs compared to her).  Occasionally, their fights would get physical as well.  For example, she's threatened to jump out of a car on the highway during an argument as a means to gaslight John, and punched him in the face when he tried pulling her back in.  On top of all this, Lisa NEVER apologizes for anything she has done.  John has mentioned breaking things off with Lisa at least 5 times since the beginning of this year.\n",
      "\n",
      "I was happy last week that he mentioned that it would be over between him and Lisa. He mentioned the same thing at the beginning of this month as well.  I thought he was 10000% sure about it this time, given how it was the 2nd time in less than a month that he wanted her to leave.  I checked in with him as often as I could because he said that she would be moving out on the first week of December.  He always seemed to take my advice with grace and trust.  I really thought he was making progress.\n",
      "\n",
      "So, I live a few hours away from John and my mom.  I told him a couple days ago when I was hitting the road.  He asked me if I'd like to stay over at his place.  When I asked if Lisa was there, he told me \"yes, things are better now but I'll explain it later.\"  WTF?  Needless to stay, I decided to stay at my mom's house instead.\n",
      "\n",
      "I had informed my mom that I thought that John had decided to get back together with Lisa.  She knows about Lisa's abusive behavior, so she was not thrilled with this either.  She said that we would need to \"talk some sense\" into him when he came over for Thanksgiving.  My mom asked John while he was here if he had gotten back with Lisa.  He wouldn't give a straight answer and said, \"Uh, not really. We are just working things out one day at a time.\"  This was the kind of answer he ALWAYS gave he every time he ultimately decided to get back with Lisa.\n",
      "\n",
      "I can't deny that I feel livid.  When I was younger, I made the stupid mistake of putting an abusive ex over my family.  My family, including John, lambasted me for YEARS that I felt I had to do everything I could to redeem myself.  Now, I can't help but feel like he feels that it is okay to do the same thing to me.  I had made it really clear to him that I cannot pretend that I like Lisa or that I am okay with him staying with Lisa after knowing all that she has done.  I don't know how I could act fairly if he continues to stay with Lisa, especially if he brings her around because:\n",
      "\n",
      "1. If I pretend that I am okay with her, she will continue her abusive/manipulative ways and John will continue to take it.\n",
      "2. If I let it be known that I DO NOT like her, Lisa will know that John has told me things & may do something to hurt him.\n",
      "\n",
      "I am sure that John and Lisa will come to visit me in my town sometime in the future; he never travels solo anymore since being with Lisa.  I really feel like refusing to even see them, to make it clear that I am not happy about John's decision to stay with Lisa.  But again, I don't know if that is fair.  I am so sorry if this becomes a mess of a text.  I can only talk about this so much with my mom before she asks me to stop talking about the negativity.  I feel like there is a LOT to this situation that I may have forgotten to include, so I can answer any questions to clarify things.\n",
      "\n",
      "ETA: (because I think this is important). I asked John last week why he felt that he could not let go of Lisa. He said he thought that things would get better over time especially because they live together. I explained to him the cycle of abuse/manipulation and he agreed that was exactly what was happening.\n",
      "\n",
      "tl;dr - My older brother has decided to stay in a relationship with his obviously abusive, on-and-off girlfriend of 5 years. I feel so angry and almost betrayed. I do not know how I should continue acting towards my brother when he brings her around.\n",
      "TL;DR: We don't get along and if he leaves, like he said he wants to, we'll have to sell the house and I'd lose my 3 chickens who have helped me get through so much. \n",
      "\n",
      "I (17F) don't get along with my dad that well. Neither does my sister(19F) or my mother(55F). I don't know why it's like this. \n",
      "\n",
      "All of us fight almost constantly everyday with my dad. Especially me. He does things like leave dirt and plates and lolipop sticks everywhere (in the car, by the computer etc.) but then scream at us if we leave our plates at the kitchen sink, cause we can't put it in the dish washer and there isn't warm water to clean it with. I've grown tired of it and always talk back about how he does even worse. I know it's probably not right to do that, but I'm just tired of him screaming at us for doing minor things. \n",
      "\n",
      "I have three chickens who I love to bits. I'd do anything for them. My dad always throws junk food and any food outside into our garden that can be harmful to my chickens. I've asked him multiple times to stop and we fight about it a lot. I usually start theses fights by telling him to stop throwing the stuff out, him grunting and ignoring me, and then me getting angry. \n",
      "\n",
      "My sister and my dad also fight a lot and yesterday he told my mom he wants to leave the house, because we're rude. I know I haven't been super nice, but I've tried working on it. Just a while ago he threw a TON of cheese outside for my chickens, and a lot of cheese isn't good for them at all. I said \"Dad, they already had a bit of cheese today, you can't give more. That's way to much cheese!\" And he grunted got very mad and walked away. Still left the cheese though. My mom told me that I should just leave him otherwise he will leave. And if he does we'll have to move and I won't be able to take my chickens with me. I don't know what I'll do without my chickens. They've helped me get through so much.. I told my mom that it's unfair. He can harm my chickens, but I'll just have to leave it? I don't know what to do. I don't want him to potentially hurt my chickens, but if I keep telling him to stop he might leave and then I won't be able to keep my chickens 😞\n",
      "\n",
      "Does anyone know what I can do?\n",
      "**Tl;dr**   \n",
      "I am 33, my wife is 31, and we have a two-and-a-half year old son. My father gave us the worst Thanksgiving of my entire life by blowing up at as about being asked to wear a mask. This is hardly the first time my dad has been a jerk, and I just feel done with him. Warning, the full story is long.\n",
      "\n",
      "**Novel**\n",
      "\n",
      "I can trace pretty much every one of my psychological issue to the verbal and physical abuse I received from my father as a child, and my mom has been with him so long that she's so beat down she refuses to acknowledge it. He's never hit her, but he's an asshole to her, my sister, and most of the extended family.\n",
      "\n",
      "We drove down to their house on Thanksgiving. He immediately walked out without a mask, saw us in masks and said \"You got the face diapers on.\" I said yes we do. He went on about how \"we're not afraid of the Rona.\" We walked into the backyard. My mom came out. We were all happily conversing while my son toddled around. My dad comes out the back door without a mask. My wife, with the lightest of tones, said \"Where's your mask?\" \n",
      "\n",
      "He immediately blew up, and said something along the lines of \"Fuck you! Don't tell me to wear a mask in my own fucking house!\" and stormed back inside. Again, this was in front of his toddler grandson. My dad has yelled and swore at me more times than I can count, but this time something broke inside my head and I knew I couldn't do this anymore.\n",
      "\n",
      "We walked around the backyard with my mom and son. My mom kept pretty much making excuses for my dad. Stuff about he's been having a hard time with his job, my sister ran off, etc. My dad leans back out the back door to yell \"You weren't wearing masks with those people out in fucking New Mexico! blah blah blah more bullshit.\" We has spent the last week in Phoenix, not New Mexico, with some friends, and all of us had isolated for two weeks prior to that in order to be safe. Meanwhile we knew my parents had gone to eat at a restaurant THIS SAME DAY. But no, it's because we love our friends but don't care about my parents.\n",
      "\n",
      "I kept telling my mom \"I can't do this anymore. This has been my entire life.\" She wanted to agree, but in the end she's always going to take my dad's side because it's less exhausting. There was some conversation back and forth. Don't feel like recounting it all. Needless to say we left. After we left we had to pull over and text both my parents. My wife told my dad that if he didn't cut this abuse out, he would not see his son or grandson. He replied \"Your opinion is noted and discarded.\"\n",
      "\n",
      "I texted my mom about this. She replied by guilting me about not having come down to see her when she has gall bladder surgery last year. The reason I didn't go was because my dad told me not to. He also spent her whole hospital stay complaining about how much it would cost. I replied to that. I also texted my dad and said until he apologizes he would not see me and he would not see his grandson. I will not have him yelling and swearing at me in front of my son. I have never confronted my dad like this in my life that I can remember. \n",
      "\n",
      "I could go on for pages and pages of backstory, but I don't want to waste everyone's day. At the moment I feel I'd be fine if I never saw or spoke to my father ever again. My mom needs to get out of there so she can remember what it's like to not live with his toxicity. No one I have spoken to has agreed with cutting him out completely forever, and I'm likely to calm down on this, but it's very hard.\n",
      "\n",
      "I guess I'm just asking for advice on how to move forward with my mom and dad. Because at the moment it feels like it's dead. And with Christmas coming up I can't imagine it will feel better anytime soon.\n",
      "\n",
      "Thank you for reading this far. Cheers.\n",
      "I recently got out of a very long term relationship and have been talking to a multitude of new people, especially women (I’m bisexual and was in a relationship with a man so I was excited to flirt with\n",
      "girls again). I met this girl through tinder and I thought she was incredibly beautiful and sweet, so I kept talking to her! I was really excited to be talking to someone who was so interested in what I have to say and interesting themselves. \n",
      "\n",
      "Because we’re in the midst of a pandemic, we haven’t met. We’ve only been texting for a couple weeks. I thought it was fun until I brought up someone I had seen a couple times before our pandemic regulations changed again, and she got upset with me. She told me that she didn’t want to hear about it and I made sure to express to her that I’m not at all interested in a relationship of any sort at this time; I’m just trying to have fun and get to know people. She acknowledged it but stood her ground that she doesn’t want to hear about it. She also expressed that in this part of her life, she wants a relationship. \n",
      "\n",
      "This was fine until things got really overwhelming. Suddenly things got kind of overbearing and overwhelming. She tells me about pretty\n",
      "much every problem she has and I’m expected to be a comfort. I’m trying my best to be kind, but I really don’t want to take on too much because I’m trying to work on myself right now instead of pour my heart into supporting people in romantic relationships. I don’t feel super comfortable talking to her because it seems like by her saying she doesn’t want to hear about the other people I’m talking to, she’s able to create a different scenario in her head in which I’m committed to her in some way. It’s kind of concerning because I’m worried the longer it goes on, the more hurt she’ll get. She’s incredibly sensitive and emotional and I’m worried about what the reaction will be. \n",
      "\n",
      "It kind of feels like dumping someone, which I avoid like the plague. I have absolutely no idea what to say to her and need help figuring it out. I want her to be happy because she’s a very kind person, but I am not the right person to make her happy, and honestly I’m feeling more obligated to talk to her every day.\n",
      "\n",
      "How do I talk to her about this without making her feel terrible?\n",
      "\n",
      "TL;DR A girl wants a relationship and I don’t. I think she’s great but she’s kind of draining the life out of me and I don’t know how to end things without really hurting her feelings.\n"
     ]
    }
   ],
   "source": [
    "for submission in reddit.subreddit(\"relationships\").hot(limit=10):\n",
    "    print(submission.selftext)"
   ]
  },
  {
   "cell_type": "code",
   "execution_count": 6,
   "metadata": {},
   "outputs": [],
   "source": [
    "submissions = open(\"submissions.txt\", \"a\")\n",
    "titles = open(\"titles.txt\", \"a\")\n",
    "\n",
    "for submission in reddit.subreddit(\"relationships\").hot:\n",
    "    submissions.write(submission.selftext)\n",
    "    submissions.write(\"\\n\")\n",
    "    titles.write(submission.title)\n",
    "    titles.write(\"\\n\")"
   ]
  },
  {
   "cell_type": "code",
   "execution_count": 7,
   "metadata": {},
   "outputs": [],
   "source": [
    "s = open(\"submissions.txt\").read()\n",
    "t = open(\"titles.txt\").read()"
   ]
  },
  {
   "cell_type": "code",
   "execution_count": 8,
   "metadata": {
    "scrolled": true
   },
   "outputs": [],
   "source": [
    "import markovify"
   ]
  },
  {
   "cell_type": "code",
   "execution_count": 9,
   "metadata": {},
   "outputs": [],
   "source": [
    "submission_generator = markovify.Text(s)\n",
    "title_generator = markovify.Text(t)"
   ]
  },
  {
   "cell_type": "code",
   "execution_count": 10,
   "metadata": {},
   "outputs": [
    {
     "name": "stdout",
     "output_type": "stream",
     "text": [
      "Then I wake up, before I looked, but i feel like if he actually needs sooner.\n"
     ]
    }
   ],
   "source": [
    "print(submission_generator.make_short_sentence(240))"
   ]
  },
  {
   "cell_type": "code",
   "execution_count": 11,
   "metadata": {},
   "outputs": [
    {
     "name": "stdout",
     "output_type": "stream",
     "text": [
      "How do I say?\n"
     ]
    }
   ],
   "source": [
    "print(title_generator.make_short_sentence(100))"
   ]
  },
  {
   "cell_type": "code",
   "execution_count": 12,
   "metadata": {},
   "outputs": [
    {
     "name": "stdout",
     "output_type": "stream",
     "text": [
      "Communication with my ex girlfriend.\n"
     ]
    }
   ],
   "source": [
    "print(title_generator.make_short_sentence(100))"
   ]
  },
  {
   "cell_type": "code",
   "execution_count": 13,
   "metadata": {},
   "outputs": [
    {
     "name": "stdout",
     "output_type": "stream",
     "text": [
      "I find all of his mental health.\n"
     ]
    }
   ],
   "source": [
    "print(submission_generator.make_short_sentence(240))"
   ]
  },
  {
   "cell_type": "code",
   "execution_count": 14,
   "metadata": {},
   "outputs": [
    {
     "name": "stdout",
     "output_type": "stream",
     "text": [
      "I know it's probably not as often as I’d like despite the fact that i wish him to text me, call me, or maybe he will be super sexual, but when he unlocked his phone at least not now.\n"
     ]
    }
   ],
   "source": [
    "print(submission_generator.make_short_sentence(240))"
   ]
  },
  {
   "cell_type": "code",
   "execution_count": 15,
   "metadata": {},
   "outputs": [
    {
     "name": "stdout",
     "output_type": "stream",
     "text": [
      "That said, B could probably be the torchbearer since I started feeling like he should trust him since our official break up is killing me inside.\n"
     ]
    }
   ],
   "source": [
    "print(submission_generator.make_short_sentence(240))"
   ]
  },
  {
   "cell_type": "code",
   "execution_count": 16,
   "metadata": {},
   "outputs": [
    {
     "name": "stdout",
     "output_type": "stream",
     "text": [
      "But, she still talks about her.\n"
     ]
    }
   ],
   "source": [
    "print(submission_generator.make_short_sentence(200, test_output=False))"
   ]
  },
  {
   "cell_type": "code",
   "execution_count": 17,
   "metadata": {},
   "outputs": [
    {
     "name": "stdout",
     "output_type": "stream",
     "text": [
      "When it comes to emotionally developing a relationship, we didn’t make her happy more than myself.\n"
     ]
    }
   ],
   "source": [
    "print(submission_generator.make_short_sentence(200, test_output=False))"
   ]
  },
  {
   "cell_type": "code",
   "execution_count": 18,
   "metadata": {},
   "outputs": [
    {
     "name": "stdout",
     "output_type": "stream",
     "text": [
      "So I guess I could start calls in the city.\n"
     ]
    }
   ],
   "source": [
    "print(submission_generator.make_short_sentence(200, test_output=False))"
   ]
  },
  {
   "cell_type": "code",
   "execution_count": 19,
   "metadata": {},
   "outputs": [
    {
     "name": "stdout",
     "output_type": "stream",
     "text": [
      "This is not only am I talking to, she’s able to tell her.\n"
     ]
    }
   ],
   "source": [
    "print(submission_generator.make_short_sentence(200, test_output=False))"
   ]
  },
  {
   "cell_type": "code",
   "execution_count": 20,
   "metadata": {},
   "outputs": [
    {
     "name": "stdout",
     "output_type": "stream",
     "text": [
      "I just didn't share details about what I’m going through.\n"
     ]
    }
   ],
   "source": [
    "print(submission_generator.make_short_sentence(200, test_output=False))"
   ]
  },
  {
   "cell_type": "code",
   "execution_count": 21,
   "metadata": {},
   "outputs": [
    {
     "name": "stdout",
     "output_type": "stream",
     "text": [
      "How have you all coped if you’ve been affected??? Need help making sound decisions right now.\n"
     ]
    }
   ],
   "source": [
    "print(title_generator.make_short_sentence(200, test_output=False))"
   ]
  },
  {
   "cell_type": "code",
   "execution_count": 22,
   "metadata": {},
   "outputs": [
    {
     "name": "stdout",
     "output_type": "stream",
     "text": [
      "How should I approach her?\n"
     ]
    }
   ],
   "source": [
    "print(title_generator.make_short_sentence(200, test_output=False))"
   ]
  },
  {
   "cell_type": "code",
   "execution_count": 24,
   "metadata": {},
   "outputs": [],
   "source": [
    "submissions = open(\"submissions.txt\", \"a\")\n",
    "titles = open(\"titles.txt\", \"a\")\n",
    "\n",
    "for submission in reddit.subreddit(\"relationships\").hot(limit=2000):\n",
    "    submissions.write(submission.selftext)\n",
    "    submissions.write(\"\\n\")\n",
    "    titles.write(submission.title)\n",
    "    titles.write(\"\\n\")"
   ]
  },
  {
   "cell_type": "code",
   "execution_count": 26,
   "metadata": {},
   "outputs": [],
   "source": [
    "s = open(\"submissions.txt\").read()\n",
    "t = open(\"titles.txt\").read()\n",
    "\n",
    "submission_generator = markovify.Text(s)\n",
    "title_generator = markovify.Text(t)"
   ]
  },
  {
   "cell_type": "code",
   "execution_count": 27,
   "metadata": {},
   "outputs": [
    {
     "name": "stdout",
     "output_type": "stream",
     "text": [
      "My best friend's brother is a p***phile, we don't know what to do.\n"
     ]
    }
   ],
   "source": [
    "print(title_generator.make_short_sentence(200, test_output=False))"
   ]
  },
  {
   "cell_type": "code",
   "execution_count": 28,
   "metadata": {},
   "outputs": [
    {
     "name": "stdout",
     "output_type": "stream",
     "text": [
      "I have no idea and its killing me.\n"
     ]
    }
   ],
   "source": [
    "print(submission_generator.make_short_sentence(200, test_output=False))"
   ]
  },
  {
   "cell_type": "code",
   "execution_count": 29,
   "metadata": {},
   "outputs": [
    {
     "name": "stdout",
     "output_type": "stream",
     "text": [
      "I've met and he said because we love each other.\n"
     ]
    }
   ],
   "source": [
    "print(submission_generator.make_short_sentence(200, test_output=False))"
   ]
  },
  {
   "cell_type": "code",
   "execution_count": 30,
   "metadata": {},
   "outputs": [
    {
     "name": "stdout",
     "output_type": "stream",
     "text": [
      "She took me some time to deal with it?\n"
     ]
    }
   ],
   "source": [
    "print(submission_generator.make_short_sentence(200, test_output=False))"
   ]
  },
  {
   "cell_type": "code",
   "execution_count": 31,
   "metadata": {},
   "outputs": [
    {
     "name": "stdout",
     "output_type": "stream",
     "text": [
      "If it makes me cry almost every night.\n"
     ]
    }
   ],
   "source": [
    "print(submission_generator.make_short_sentence(200, test_output=False))"
   ]
  },
  {
   "cell_type": "code",
   "execution_count": 32,
   "metadata": {},
   "outputs": [
    {
     "name": "stdout",
     "output_type": "stream",
     "text": [
      "I often get all shaky and sweaty, I feel paranoid, but I don't know why he suggested we drive back to my girlfriend and his family.\n"
     ]
    }
   ],
   "source": [
    "print(submission_generator.make_short_sentence(200, test_output=False))"
   ]
  },
  {
   "cell_type": "code",
   "execution_count": 33,
   "metadata": {},
   "outputs": [
    {
     "name": "stdout",
     "output_type": "stream",
     "text": [
      "He however continued to improve my relationship hidden from some gastro issues.\n"
     ]
    }
   ],
   "source": [
    "print(submission_generator.make_short_sentence(200, test_output=False))"
   ]
  },
  {
   "cell_type": "code",
   "execution_count": 34,
   "metadata": {},
   "outputs": [
    {
     "name": "stdout",
     "output_type": "stream",
     "text": [
      "First, I thought it could be potentially serious.\n"
     ]
    }
   ],
   "source": [
    "print(submission_generator.make_short_sentence(200, test_output=False))"
   ]
  },
  {
   "cell_type": "code",
   "execution_count": 35,
   "metadata": {},
   "outputs": [
    {
     "name": "stdout",
     "output_type": "stream",
     "text": [
      "I respond back that I wasn't concerned about having the attraction for her when she needs that but we had now that I would never play it again, but I just want to be like arguing in the US.\n"
     ]
    }
   ],
   "source": [
    "print(submission_generator.make_short_sentence(200, test_output=False))"
   ]
  },
  {
   "cell_type": "code",
   "execution_count": 36,
   "metadata": {},
   "outputs": [
    {
     "name": "stdout",
     "output_type": "stream",
     "text": [
      "I merely only wanted one and I honestly ruin this relationship?\n"
     ]
    }
   ],
   "source": [
    "print(submission_generator.make_short_sentence(200, test_output=False))"
   ]
  },
  {
   "cell_type": "code",
   "execution_count": 37,
   "metadata": {},
   "outputs": [
    {
     "name": "stdout",
     "output_type": "stream",
     "text": [
      "I've told them that i am ith my approach.\n"
     ]
    }
   ],
   "source": [
    "print(submission_generator.make_short_sentence(200, test_output=False))"
   ]
  },
  {
   "cell_type": "code",
   "execution_count": 38,
   "metadata": {},
   "outputs": [
    {
     "name": "stdout",
     "output_type": "stream",
     "text": [
      "We stopped talking to this and they hadn’t changed.\n"
     ]
    }
   ],
   "source": [
    "print(submission_generator.make_short_sentence(200, test_output=False))"
   ]
  },
  {
   "cell_type": "code",
   "execution_count": 39,
   "metadata": {},
   "outputs": [
    {
     "name": "stdout",
     "output_type": "stream",
     "text": [
      "No matter if it matters at this point I was planning our wedding should be.\n"
     ]
    }
   ],
   "source": [
    "print(submission_generator.make_short_sentence(200, test_output=False))"
   ]
  },
  {
   "cell_type": "code",
   "execution_count": 40,
   "metadata": {},
   "outputs": [
    {
     "name": "stdout",
     "output_type": "stream",
     "text": [
      "I know it’s irrational.\n"
     ]
    }
   ],
   "source": [
    "print(submission_generator.make_short_sentence(200, test_output=False))"
   ]
  },
  {
   "cell_type": "code",
   "execution_count": 41,
   "metadata": {},
   "outputs": [
    {
     "name": "stdout",
     "output_type": "stream",
     "text": [
      "So we talked about a month ago.\n"
     ]
    }
   ],
   "source": [
    "print(submission_generator.make_short_sentence(200, test_output=False))"
   ]
  },
  {
   "cell_type": "code",
   "execution_count": 42,
   "metadata": {},
   "outputs": [
    {
     "name": "stdout",
     "output_type": "stream",
     "text": [
      "And now he told me she wasnt going to continue the relationship.\n"
     ]
    }
   ],
   "source": [
    "print(submission_generator.make_sentence())"
   ]
  },
  {
   "cell_type": "code",
   "execution_count": 45,
   "metadata": {},
   "outputs": [
    {
     "name": "stdout",
     "output_type": "stream",
     "text": [
      "How do I approach this?\n"
     ]
    }
   ],
   "source": [
    "print(title_generator.make_sentence())"
   ]
  },
  {
   "cell_type": "code",
   "execution_count": 46,
   "metadata": {},
   "outputs": [
    {
     "name": "stdout",
     "output_type": "stream",
     "text": [
      "How to make a move on when nothing has worked?\n"
     ]
    }
   ],
   "source": [
    "print(title_generator.make_sentence())"
   ]
  },
  {
   "cell_type": "code",
   "execution_count": 47,
   "metadata": {},
   "outputs": [
    {
     "name": "stdout",
     "output_type": "stream",
     "text": [
      "How did you know you were ready to do next why does it feel like i can never find love?\n"
     ]
    }
   ],
   "source": [
    "print(title_generator.make_sentence())"
   ]
  },
  {
   "cell_type": "code",
   "execution_count": 48,
   "metadata": {},
   "outputs": [
    {
     "name": "stdout",
     "output_type": "stream",
     "text": [
      "What do I fix this?\n"
     ]
    }
   ],
   "source": [
    "print(title_generator.make_sentence())"
   ]
  },
  {
   "cell_type": "code",
   "execution_count": null,
   "metadata": {},
   "outputs": [],
   "source": [
    "import pronouncing"
   ]
  }
 ],
 "metadata": {
  "kernelspec": {
   "display_name": "Python 3",
   "language": "python",
   "name": "python3"
  },
  "language_info": {
   "codemirror_mode": {
    "name": "ipython",
    "version": 3
   },
   "file_extension": ".py",
   "mimetype": "text/x-python",
   "name": "python",
   "nbconvert_exporter": "python",
   "pygments_lexer": "ipython3",
   "version": "3.8.2"
  }
 },
 "nbformat": 4,
 "nbformat_minor": 4
}
