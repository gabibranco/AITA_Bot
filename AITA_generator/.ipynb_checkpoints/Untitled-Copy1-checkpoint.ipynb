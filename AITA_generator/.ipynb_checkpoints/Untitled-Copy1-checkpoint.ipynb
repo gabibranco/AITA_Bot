{
 "cells": [
  {
   "cell_type": "code",
   "execution_count": 1,
   "metadata": {},
   "outputs": [],
   "source": [
    "import praw\n",
    "import os"
   ]
  },
  {
   "cell_type": "code",
   "execution_count": 2,
   "metadata": {},
   "outputs": [],
   "source": [
    "reddit = praw.Reddit(\n",
    "    client_id = os.getenv(\"CLIENT_ID\"),\n",
    "    client_secret = os.getenv(\"CLIENT_SECRET\"),\n",
    "    user_agent= os.getenv(\"USER_AGENT\")\n",
    ")"
   ]
  },
  {
   "cell_type": "code",
   "execution_count": 3,
   "metadata": {},
   "outputs": [
    {
     "name": "stdout",
     "output_type": "stream",
     "text": [
      "True\n"
     ]
    }
   ],
   "source": [
    "print(reddit.read_only)"
   ]
  },
  {
   "cell_type": "code",
   "execution_count": 4,
   "metadata": {
    "scrolled": true
   },
   "outputs": [
    {
     "name": "stdout",
     "output_type": "stream",
     "text": [
      "New Resources for Anyone Looking to Help Those in an Unhealthy or Abusive Relationships\n",
      "Monthly Open Forum December 2020\n",
      "AITA: For leaving in an Uber after my fiancè caused a scene at the restaurant?\n",
      "AITA for refusing to help my sister get gifts during Black Friday?\n",
      "AITA for never telling my parents I had a son that was given up for adoption?\n",
      "AITA for not wanting to sleep in our bed?\n",
      "WIBTA if I held my roommates grandma hostage?\n",
      "AITA or is my coworker creepy?\n",
      "AITA for not letting my boyfriend move into my new apartment after he made us lose our shared one?\n",
      "AITA for being cheesed my partner won’t compensate when his choices are literally making me blind?\n"
     ]
    }
   ],
   "source": [
    "for submission in reddit.subreddit(\"AmITheAsshole\").hot(limit=10):\n",
    "    print(submission.title)"
   ]
  },
  {
   "cell_type": "code",
   "execution_count": 5,
   "metadata": {},
   "outputs": [
    {
     "name": "stdout",
     "output_type": "stream",
     "text": [
      "[This recent vice article](https://www.vice.com/en/article/y3z5av/reading-reddit-relationships-amitheasshole-aita-helps-some-leave-bad-relationships) on the subreddit touched on an important note that we’ve talked about before as a mod team. People post to this subreddit for all kinds of reasons and can get a benefit from what this subreddit provides in all kinds of ways. One of the best things this subreddit can do is provide perspective. That perspective can be especially valuable to someone in an unhealthy or abusive relationship. \n",
      "\n",
      "But when it comes to an unhealthy or abusive relationship, identifying and labeling the problem is only the first step of the process. Reaching out to someone in one of these situations can be tricky and getting out of one yourself can be hard and sometimes dangerous. Sometimes, people don't want to leave an unhealthy or abusive relationship for many reasons, including love, fear, or having children together, among other reasons. All of the following resources are available to you regardless of what you want or need. These resources won't shame you for staying or pressure you into leaving, but they can help support you emotionally.\n",
      "\n",
      "The good news is there are a lot of resources out there to help navigate these situations and we’ve gotten help from /u/Ebbie45 - a domestic violence professional who frequently shares her knowledge and compassion all over reddit - to help make some of these resources more available.  We've developed a page of our wiki that's meant to be shared with anyone that you feel might need it.  It's designed to provide the user with some information about unhealthy and abusive relationships and provide them with links to groups and organizations dedicated to help if they identify they need it.\n",
      "\n",
      "[This is the link that we've created to be shared](https://www.reddit.com/r/AmItheAsshole/wiki/resources), it's included in the sidebar and FAQs as well.\n",
      "\n",
      "We would also like to encourage you, as users, to continue to do what you do in the comments. There are so many great examples of users reaching out to OPs that they think need help or sharing personal stories to help convince others to keep themselves safe and secure. We understand this is neither an advice subreddit nor a support subreddit, and there are certainly much better places for people that need those things. Regardless, there are still situations when you feel those might be what OP needs most but simply doesn't realize it, and we want to give you tools to be prepared if you're interested.\n",
      "\n",
      "[The link we've created](https://www.reddit.com/r/AmItheAsshole/wiki/resources) links to some great resources that discuss the [healthy-unhealthy-abusive relationship spectrum](https://thedeafhotline.org/relationship-spectrum/).  Love Is Respect also has a fantastic [quiz on this topic](https://www.loveisrespect.org/quiz/relationship-spectrum/?%3E) to help you learn to identify where different situations might fit on the spectrum.\n",
      "\n",
      "If you would like to be better prepared to help talk to someone in an unhealthy relationship there are many guides directed that as well.  One Love Foundation has a [fantastic guide for helping a friend](https://www.joinonelove.org/learn/help_a_friend/).  Love Is Respect has a guide that touches on safety, the stages of leaving, and taking care of oneself [that can be found here](https://www.loveisrespect.org/resources/questions-to-ask-if-youre-worried-about-your-friends-relationship/).  Talkspace has a [guide that's geared towards talking to an online friend](https://www.talkspace.com/blog/help-online-friend-in-need/) that might be relevant to these situations as well.  And because COVID has had a significant impact on people in abusive relationships [this guide from the National Network to End Domestic Violence](https://nnedv.org/wp-content/uploads/2020/04/Library_COVID_helping_a_friend.pdf) will be really useful as well.\n",
      "\n",
      "For anyone reaching out to friends, family, or strangers, please keep also in mind it's important to take care of yourselves too when you are helping someone else. Supporting someone in an unhealthy or abusive relationship can be hard, and it's not possible to \"save\" anyone. Validation and encouragement can go a long way, but take note of your own boundaries and capacity too\n",
      "\n",
      "This is in no way changes the purpose or the mission of the subreddit. We are still first and foremost here to provide a space for people to present conflicts that they are experiencing and asking the users for moral judgment. This is simply about remembering the human along the way and giving anyone willing at least some tools to help when they see an opportunity.\n",
      "Welcome to the monthly open forum! This is the place to share all your meta thoughts about the sub, and to have a dialog with the mod team.\n",
      "\n",
      "#Keep things civil. Rules still apply.\n",
      "\n",
      "It's December y'all! We made it to the end. We'll roll into 2021 with a new year to gripe about it and a bunch of fresh conflicts to debate.\n",
      "\n",
      "We've got a few things to highlight!\n",
      "\n",
      "* We're working on a bot enhancement that will prompt people to explain why they think they might be the asshole in their conflict. Has to be more than \"someone said I was\" or \"I just feel like I am.\" The hope is we can help curb some of the \"check out how I owned this guy\" stories, and quickly identify stories without an interpersonal conflict. You'll see this bot soon.\n",
      "\n",
      "* We're leaning into the \"presented fairly\" part of rule 8 more. This is a difficult thing to enforce as it's arbitrary. You will likely not always agree with us. But we're really trying to curb the posts that are so clearly written to give OP a favorable outcome. That's not the point of this sub.\n",
      "\n",
      "* We're exploring ways to identify posts that are \"above reddit's paygrade\" so to speak. Folks who really need help from a professional or at least someone closer to the situation. We all know the internet tends to extremes and that can be damaging in some situations.\n",
      "\n",
      "* Please stop PMing mods. We spam the hell out of the [modmail link.](https://www.reddit.com/message/compose/?to=/r/AmItheAsshole). When you PM us, it's super easy for things to get buried in our inbox and delay your response time.\n",
      "\n",
      "#As always, do not directly link to posts/comments or post uncensored screenshots here. Any comments with links will be removed.  \n",
      "This is to discourage brigading. If something needs to be discussed in that context, use modmail.\n",
      "\n",
      "\n",
      "I F28 Been with my fiancè M32 for three years, We got engaged in April. He is a doctor and I'm a teacher. He's doing okay financially but I noticed his strange behavior with money. I don't know what to call this. But He has an argumentative personality\n",
      "\n",
      "Whenever he buys something online or from the shop he'd try to haggle over the price. Complaining about how everything is expensive and overpriced. He does this all the time. I hated going out to shop with him as he'd try to argue constantly. That made me feel awful especially since he has enough money to pay and it's ridiculous. He used to pick up fights with his previous landlords. So far he moved into two different apartments claiming the landlords were the problem not him. Having lived with him and seen how he stalls with the rent I knew he was the problem.\n",
      "\n",
      "He wanted us to go out to a new restaurant and have dinner. I agreed and went shopping alone and got myself a nice dress since I don't have many. He insisted on finding out how much I paid and threw a fit when I told him the price. Saying I should've let him come with me and that I could've gotten it way cheaper. This really annoyed me it's just a dress no big deal. But he made me feel guilty for paying for it.\n",
      "\n",
      "I was in a bad mood already. He decided to order a meal from the menu even though he complained about the price. I told him he could pick something else but he insisted and said he'd figure a way to discuss the price.\n",
      "\n",
      "When the waiter brought him the bill. Instead of paying My fiancè started arguing how the meal was overpriced and wanted to negotiate saying he won't be paying that much cause he thought it was too expensive. He berated the waiter for not accepting the price he wanted to pay. I told him I'd help with payment no problem but he was offended saying he'd never allow it. I was embarrassed since everyone was watching my fiance telling the waiter he might be trying to keep the money for himself. The manager got involved and we had to wait for 30 minutes before he showed up since my fiance refused to pay and get it over with.\n",
      "\n",
      "After arguing loudly the manager took the money my fiance gave him and he ended up getting us kicked out while people were watching. I felt awful this was so humiliating I yelled at him and refused to get in the car and instead called an uber especially after he acted like he won the argument and had this awful smirk on his face. He said I was overreacting after he spent 45 minutes arguing about a meal which was rude.\n",
      "\n",
      "I stayed with my mom and couldn't help but cry after this embarrassment. He texted me later telling me how upset he was with me for treating him like this and siding against him. He said I hurt his feelings by leaving like that completely ignoring the fact that he ruined the night.\n",
      "\n",
      "I refused to apologize after his text and I couldn't even sleep thinking about it.\n",
      "\n",
      "No not a cultural thing. I don't know anyone who does what he does. Especially not like this.\n",
      "\n",
      "We're in Europe, And yes I believe this has to do with how he grew up. His family always struggled with money. And is still struggling however this is unacceptable and he has no respect for other people and thinks they somehow deserve it. It's inappropriate and disrespectful.\n",
      "I (24f) work retail. My sister (29f) has always looked down on me for it. She has said everything from I threw my life away by not going to college to I wouldn't know what hard work is because I \"only\" work retail. One time she even interrupted a conversation I was having with her mother in-law, who was inquiring about the treatment of teen employees where I work because her nephew was looking for a job, to say I shouldn't be offering help to anyone when I have a kiddie job. I mostly just don't talk to her now and try to pretend she's not speaking.\n",
      "\n",
      "So this year has been rough on everyone and she lost her job, her husband's company issued company wide paycuts so money has been tight for them. I was working Black Friday this year like always and two weeks ago my sister asked me if I could pick her up some bargains since I would have access to them. I said no. I told her she doesn't get to look down on me and insult me and how hard I work and then try to benefit off it. She said she was sorry and she wouldn't do it again but it didn't feel genuine to me. So I stuck to my no.\n",
      "\n",
      "She's saying I'm an asshole now because I wouldn't help her and that I should have thought of her kids and the extended family. My nephews will have gifts. I got them stuff from me. But I don't feel like I owe my sister after everything. Is that wrong of me?\n",
      "\n",
      "AITA?\n",
      "My parents were very cold, strict, and controlling people almost my entire life. Very religious and always cared about how the rest of their church viewed them so they were even harder on me to always be “perfect.” \n",
      "\n",
      "I was out of the house at 18. I didn’t have any money since my parents never let me work so I lived with friends.\n",
      "\n",
      "My girlfriend and I were only 19 when she got pregnant. Neither of us with a place of our own, no money. We weren’t at all prepared to be parents. \n",
      "\n",
      "Despite trying to break away from our parents strict religious views, we still felt guilt about considering abortion (I’m completely pro-choice btw but personally we couldn’t bring ourselves to do it) and looked into adoption instead. We went through the process and our son was adopted by a nice enough couple.\n",
      "\n",
      "It hurt for a long time but we eventually moved on with our lives. The thing is, I never told my parents anything. \n",
      "I feared what they would do if they found out. Yes, at that age I still feared them. Mostly afraid they would try to adopt him instead and raise him in the same dysfunctional household, which I couldn’t allow knowing how they’d be. \n",
      "\n",
      "We were no contact at all when this was happening and didn’t speak until after 15 years. My dad had a heart attack and was in the hospital. I reached out and helped while he was in recovery\n",
      "\n",
      "They both wanted to mend our relationship since this was sort of a wake up call and while it’s not perfect &amp; they’re in some ways still stuck in a certain mindset, I know they have tried to be more open and loving.\n",
      "\n",
      "Now when my bio son was adopted, we agreed he was free to contact us once he was older and that’s exactly what he did when he was 19. “Ben” has been in my life for almost 2 years and it’s been such a blessing getting to know the wonderful man he grew up to be. \n",
      "\n",
      "Ben has expressed interest in meeting my parents as he’s already met my ex’s parents. He knows the whole story about them and that they don’t know about him at all. He’s fine if I don’t want them to know but I decided it was time anyways and decided to speak with them. \n",
      "\n",
      "Boy was it a major disaster. My mom was so upset she was almost in tears and my dad wouldn’t even look at me. They acted like I was a monster for never telling them they had a grandchild out in the world and also angry at the fact that I “gave him away” when they would’ve given him a home. They were far to upset so I left the house. \n",
      "\n",
      "Despite having confirmation that they would’ve tried to adopt him and it was the right choice not to let that happen, I have gotten a lot of talks from my mom’s family agreeing adoption was the best choice but that my parents still had the right to know of their own grandchild’s existence.\n",
      "\n",
      "For that, they believe I was in fact wrong for keeping them from knowing this. I understand lies, especially of this magnitude,  would blow up eventually anyways, but I am questioning whether my choice was so bad I’m TA for it.\n",
      "Obligatory mention of using mobile. \n",
      "\n",
      "So, since our daughter was born 3 months ago, I’ve (33M) have refused to sleep in our bed. Hear me out here. \n",
      "\n",
      "My wife (27F) is a stay at home mom. She had a daughter (3 now) when we moved in together and co slept with her. That was fine with me and I got used to co sleeping with her, she has her own bed but refuses to sleep in her room at night, only for naps. \n",
      "\n",
      "I have a very physically and mentally demanding job, early morning, 12+ hour shifts, 5 days a week. When I get home I cook for our family (her cooking is HORRIBLE, she’d burn water), spend a few hours with them and then straighten up around the house before going to bed. \n",
      "\n",
      "Since our 3 month old was born, my wife has insisted on co sleeping with her as well. We have a bed side pivoting crib but she refuses to use it. She also refuses to break the co sleeping with the 3 year old. I’ve even brought the toddler bed into our room to try to get her to sleep in it with no luck. This being said, with me there are 4 people in a queen sized bed. The 3 year is a ROUGH sleeper and will end up sideways in the bed and my wife can’t sleep without the TV on because of night terrors. So on the occasion I do sleep in our bed I have just enough room to lay sideways on the edge of the bed (I’m not a small guy) and have to either blind fold myself and wear ear plugs or heavy drug myself, neither of which are good since there is a 3 month old in the bed. I’ve sleeping on the sofa for the most of the past 3 months, even if I do start out in the bed I end up on the sofa. I get the sleep I need for work and I still wake up if the 3 month old is crying. \n",
      "\n",
      "She says I’m an asshole for not sleeping in bed with our family, but I see the sofa is really my only choice. So AITA?\n",
      "Okay Reddit, let me start of by saying, I know I probably will be the asshole in this one because even I don’t agree with it but I feel like I’ve been left with no other options. \n",
      "\n",
      "I’m on a lease with a girl an Italian girl on a work/school visa.  Halfway through our second year together, she starts dating a guy I like to call Rick the Dick. When Rick moved in with us and we start splitting rent 3 ways. I didn’t care, the arrangement was fine with me. \n",
      "\n",
      "In December, she went back to Italy. Shortly after, she got stuck there. In March, he lost his job and was in able to cover his full part of the rent. Worth it to mention that we had started splitting it down the middle since his girlfriend was out of town indefinitely. We kept a tally of every dollar that he owed me and assured I’d get back. At the time, he still wasn’t on the lease and she was so I figured worst case scenario, she’d be liable as well. \n",
      "\n",
      "Now our lease is up. She’s still in Italy and though he’s gone back to work full time, he hasn’t paid me. When I told him to get out, he claimed squatters rights and some other shit. I called the police, and they said technically he could stay for up to 30 days. We weren’t talking and we’re avoiding each other. Before those 30 days were up, he left basically in the middle of the night with all his and her shit (of value, left all the crap to dispose of) and just bailed. \n",
      "\n",
      "Now I’m out 6 grand. I found out we’re not getting our initial deposit back that we split and may be liable for some damage to the property. She doesn’t care or really plan on coming back to the states at this point. I don’t know anything about him to really look him up or find him. I basically paid the entirety of the rent for like the year. He took all their stuff so I can’t even sell anything for money. \n",
      "\n",
      "Here’s where things get weird. I get a visit from the police stating that, someone claimed that I stole and was holding his grandmother’s ashes hostage in my apt and they had tried contacting me and I was being difficult. I denied this (cause I had no clue what he was talking about) and told the cop he was more than welcome to look. He looked, didn’t see anything and left. I went in his room and tore it apart until I found them in a little urn. \n",
      "\n",
      "Now I’m in this position where I can hold these ashes ransom for the money I’m owed. I don’t want to do this. I don’t want to be that person. I can’t take Rick to court. I can’t take my roommate to court because they’d literally have to extradite her and it’s not worth the legal trouble or fees. I really, really, really, need the money back since I will have to get a new place without a roommate, on top of paying to get out of the place we’re in now. \n",
      "\n",
      "So Reddit, what the fuck should I do? WIBTA? \n",
      "\n",
      "*important detail, my roommates mom is the one who wants the ashes back. So I do think I have a good chance of getting my money \n",
      "\n",
      "(For the record, I am NOT mistreating her ashes. I say I prayer with her every night and morning. I would never.)\n",
      "My lease ended last month and I found a room on Spare room in a house share. The home is owned by an elderly couple and there's another lodger other than myself, who is male. I'm female.\n",
      "\n",
      "Ever since I mentioned I moved, one of my coworkers has been asking me at least once a day about my male housemate. He keeps saying so you live with your boyfriend. My response is always no, I don't really know him, he's just my housemate. Then he counters with is it your housemate or your boyfriend? In circles. It's making me really uncomfortable.\n",
      "\n",
      "I told him I refuse to discuss my housemate any more and now he's told other coworkers that I'm a bitch. Did I overreact or was he being creepy?\n",
      "Throwaway because I don't want this drama tied to my real account.\n",
      "\n",
      "Me (23F) and my boyfriend (24M) got evicted a few months ago. We get a long well and both of us are otherwise very responsible when it comes to work and household chores. The main issue here is: He games a lot, and is very loud when doing so. I tried to talk to him a numerous times about how it's not appropriate to yell at the game in the middle of the night but he never really listened to me. After too many noise complaints, we finally got evicted. During this time we have lived with a relative, and he has continued to be very loud in front of the computer.\n",
      "\n",
      "Now, I finally found an apartment I can afford but I told him that I don't want to live with him as long as he keeps this behavior up, and that he will need to find an apartment on his own. I would love to live with him in the future if we ever get a home of our own, as we both dream of living remotely in the future.He thinks it's really shitty of me to decide this over \"one mistake\" but I really don't want to go through this whole apartment searching process if he gets us evicted again, and he really doesn't show any inclination towards changing his behavior in this regard. Most of my friends think I am being unreasonable as well, since it was a \"one time thing\" but I think getting evicted over noise is a pretty major thing, especially since there was many complaints from the landlord before he kicked us out.\n",
      "\n",
      "&#x200B;\n",
      "\n",
      "AITA for not letting him have another chance, and forcing him to live on his own?\n",
      "\n",
      "&#x200B;\n",
      "\n",
      "UPDATE: Thanks for all the comments. It was made quite clear here that most of you didn't see me as the asshole here, so I felt comfortable talking to him again about this today with how the two of us should go on from now and I borrowed some of the points here that I agreed with but really hadn't been able to phrase on my own.  \n",
      " It was a good talk, a lot came up that I didn't really know off and he realized that it's perhaps the best if we live apart for a while, and that he tries therapy to deal with the way he has been feeling for the past year.   \n",
      "Hopefully the heated gamer moments will come to an end in the future so that we actually can share an apartment one day.   \n",
      "Jokingly suggested testing his hearing since he still has a hard time realizing how loud he has been and he wants to try that as well lmao. \n",
      "I have bad eye sight. It’s getting worse. Upon my recent visit to the optometrist to get new specs he was shocked at how much my eyesight had deteriorated in just 2 years. Why has it been so badly effected? Low light and not enough natural lights.\n",
      "\n",
      "We have a ‘smart home’ and color changing lights throughout. I need at least one white light on to cut through the dark/bad acid trip vibes or I get migraines and my eye sight is deteriorating at a rapid rate.\n",
      "\n",
      "I’ve discussed this multiple times with my partner and every time I put a regular light on so I can physically see and hope I don’t get a migraine he gets pissed at me. \n",
      "\n",
      "All I ask for is one light out of 6-7 to be ‘natural’ as possible to delay my deterioration in my eyes... I don’t think that’s unreasonable... Am I the asshole here or is he?\n"
     ]
    }
   ],
   "source": [
    "for submission in reddit.subreddit(\"AmITheAsshole\").hot(limit=10):\n",
    "    print(submission.selftext)"
   ]
  },
  {
   "cell_type": "code",
   "execution_count": 7,
   "metadata": {},
   "outputs": [],
   "source": [
    "submissions = open(\"submission_aita.txt\", \"a\")\n",
    "titles = open(\"title_aita.txt\", \"a\")\n",
    "\n",
    "for submission in reddit.subreddit(\"AmITheAsshole\").hot(limit=2000):\n",
    "    submissions.write(submission.selftext)\n",
    "    submissions.write(\"\\n\")\n",
    "    titles.write(submission.title)\n",
    "    titles.write(\"\\n\")"
   ]
  },
  {
   "cell_type": "code",
   "execution_count": 8,
   "metadata": {},
   "outputs": [],
   "source": [
    "s = open(\"submission_aita.txt\").read()\n",
    "t = open(\"title_aita.txt\").read()"
   ]
  },
  {
   "cell_type": "code",
   "execution_count": 9,
   "metadata": {
    "scrolled": true
   },
   "outputs": [],
   "source": [
    "import markovify"
   ]
  },
  {
   "cell_type": "code",
   "execution_count": 10,
   "metadata": {},
   "outputs": [],
   "source": [
    "submission_generator = markovify.Text(s)\n",
    "title_generator = markovify.Text(t)"
   ]
  },
  {
   "cell_type": "code",
   "execution_count": 11,
   "metadata": {},
   "outputs": [
    {
     "name": "stdout",
     "output_type": "stream",
     "text": [
      "Or other times when I move out at most has a friend of his bills and occasionally buy groceries.\n"
     ]
    }
   ],
   "source": [
    "print(submission_generator.make_short_sentence(240))"
   ]
  },
  {
   "cell_type": "code",
   "execution_count": 12,
   "metadata": {},
   "outputs": [
    {
     "name": "stdout",
     "output_type": "stream",
     "text": [
      "AITA for pointing out to my mom's boyfriend to put effort into learning what I could barely afford?\n"
     ]
    }
   ],
   "source": [
    "print(title_generator.make_short_sentence(100))"
   ]
  },
  {
   "cell_type": "code",
   "execution_count": 13,
   "metadata": {},
   "outputs": [
    {
     "name": "stdout",
     "output_type": "stream",
     "text": [
      "AITA for asking my housemate for refusing to join the location tracking app my fiancé's family uses?\n"
     ]
    }
   ],
   "source": [
    "print(title_generator.make_short_sentence(100))"
   ]
  },
  {
   "cell_type": "code",
   "execution_count": 14,
   "metadata": {},
   "outputs": [
    {
     "name": "stdout",
     "output_type": "stream",
     "text": [
      "I am being blamed for it to them.\n"
     ]
    }
   ],
   "source": [
    "print(submission_generator.make_short_sentence(240))"
   ]
  },
  {
   "cell_type": "code",
   "execution_count": 15,
   "metadata": {},
   "outputs": [
    {
     "name": "stdout",
     "output_type": "stream",
     "text": [
      "Edit: I 100% was not entirely sure if simply continuing to push the garbage to the guy in general.\n"
     ]
    }
   ],
   "source": [
    "print(submission_generator.make_short_sentence(240))"
   ]
  },
  {
   "cell_type": "code",
   "execution_count": 16,
   "metadata": {},
   "outputs": [
    {
     "name": "stdout",
     "output_type": "stream",
     "text": [
      "Honestly a lot of hatred in his face and that she doesn’t get the picture.\n"
     ]
    }
   ],
   "source": [
    "print(submission_generator.make_short_sentence(240))"
   ]
  },
  {
   "cell_type": "code",
   "execution_count": 17,
   "metadata": {},
   "outputs": [
    {
     "name": "stdout",
     "output_type": "stream",
     "text": [
      "My boyfriend is saying I'm holding the mashed potatoes she put down in late fall.\n"
     ]
    }
   ],
   "source": [
    "print(submission_generator.make_short_sentence(200, test_output=False))"
   ]
  },
  {
   "cell_type": "code",
   "execution_count": 18,
   "metadata": {},
   "outputs": [
    {
     "name": "stdout",
     "output_type": "stream",
     "text": [
      "Here’s the thing- what she’s done this.\n"
     ]
    }
   ],
   "source": [
    "print(submission_generator.make_short_sentence(200, test_output=False))"
   ]
  },
  {
   "cell_type": "code",
   "execution_count": 19,
   "metadata": {},
   "outputs": [
    {
     "name": "stdout",
     "output_type": "stream",
     "text": [
      "We ended up being abusive to be around April 2021.\n"
     ]
    }
   ],
   "source": [
    "print(submission_generator.make_short_sentence(200, test_output=False))"
   ]
  },
  {
   "cell_type": "code",
   "execution_count": 20,
   "metadata": {},
   "outputs": [
    {
     "name": "stdout",
     "output_type": "stream",
     "text": [
      "Lobster rolls didn't have ADHD.\n"
     ]
    }
   ],
   "source": [
    "print(submission_generator.make_short_sentence(200, test_output=False))"
   ]
  },
  {
   "cell_type": "code",
   "execution_count": 21,
   "metadata": {},
   "outputs": [
    {
     "name": "stdout",
     "output_type": "stream",
     "text": [
      "She kept this item in my account for the jacket was expensive but extremely cute coat that I shouldn't touch anything and that I’m judging him for not wanting my efforts to be changed.\n"
     ]
    }
   ],
   "source": [
    "print(submission_generator.make_short_sentence(200, test_output=False))"
   ]
  },
  {
   "cell_type": "code",
   "execution_count": 22,
   "metadata": {},
   "outputs": [
    {
     "name": "stdout",
     "output_type": "stream",
     "text": [
      "AITA for telling my roommate to turn her TV down?\n"
     ]
    }
   ],
   "source": [
    "print(title_generator.make_short_sentence(200, test_output=False))"
   ]
  },
  {
   "cell_type": "code",
   "execution_count": 23,
   "metadata": {},
   "outputs": [
    {
     "name": "stdout",
     "output_type": "stream",
     "text": [
      "AITA for my cousin?\n"
     ]
    }
   ],
   "source": [
    "print(title_generator.make_short_sentence(200, test_output=False))"
   ]
  },
  {
   "cell_type": "code",
   "execution_count": 27,
   "metadata": {},
   "outputs": [
    {
     "name": "stdout",
     "output_type": "stream",
     "text": [
      "My best friend's brother is a p***phile, we don't know what to do.\n"
     ]
    }
   ],
   "source": [
    "print(title_generator.make_short_sentence(200, test_output=False))"
   ]
  },
  {
   "cell_type": "code",
   "execution_count": 24,
   "metadata": {},
   "outputs": [
    {
     "name": "stdout",
     "output_type": "stream",
     "text": [
      "I figured that my partner either sits scrolling mindlessly on Facebook about her stupid excuses.\n"
     ]
    }
   ],
   "source": [
    "print(submission_generator.make_short_sentence(200, test_output=False))"
   ]
  },
  {
   "cell_type": "code",
   "execution_count": 25,
   "metadata": {},
   "outputs": [
    {
     "name": "stdout",
     "output_type": "stream",
     "text": [
      "But she also hired a cat would kill me.\n"
     ]
    }
   ],
   "source": [
    "print(submission_generator.make_short_sentence(200, test_output=False))"
   ]
  },
  {
   "cell_type": "code",
   "execution_count": 26,
   "metadata": {},
   "outputs": [
    {
     "name": "stdout",
     "output_type": "stream",
     "text": [
      "My son participated in about 250$ in change, just so upset about her for a bit.\n"
     ]
    }
   ],
   "source": [
    "print(submission_generator.make_short_sentence(200, test_output=False))"
   ]
  },
  {
   "cell_type": "code",
   "execution_count": 27,
   "metadata": {},
   "outputs": [
    {
     "name": "stdout",
     "output_type": "stream",
     "text": [
      "When I explained to her sisters house and slammed his door without talking with her, Alex made her feel better, but this has been verbally abusive to be petite and small.\n"
     ]
    }
   ],
   "source": [
    "print(submission_generator.make_short_sentence(200, test_output=False))"
   ]
  },
  {
   "cell_type": "code",
   "execution_count": 28,
   "metadata": {},
   "outputs": [
    {
     "name": "stdout",
     "output_type": "stream",
     "text": [
      "I met him.\n"
     ]
    }
   ],
   "source": [
    "print(submission_generator.make_short_sentence(200, test_output=False))"
   ]
  },
  {
   "cell_type": "code",
   "execution_count": 29,
   "metadata": {},
   "outputs": [
    {
     "name": "stdout",
     "output_type": "stream",
     "text": [
      "Ok cool, my bad, ive obvs misjudged the situation, and she was 18.\n"
     ]
    }
   ],
   "source": [
    "print(submission_generator.make_short_sentence(200, test_output=False))"
   ]
  },
  {
   "cell_type": "code",
   "execution_count": 30,
   "metadata": {},
   "outputs": [
    {
     "name": "stdout",
     "output_type": "stream",
     "text": [
      "Also I know her finances and assuming I was just not sure what to think that it's perhaps the best person for telling him I refuse to clean it before using.\n"
     ]
    }
   ],
   "source": [
    "print(submission_generator.make_short_sentence(200, test_output=False))"
   ]
  },
  {
   "cell_type": "code",
   "execution_count": 31,
   "metadata": {},
   "outputs": [
    {
     "name": "stdout",
     "output_type": "stream",
     "text": [
      "He drives while drunk.\n"
     ]
    }
   ],
   "source": [
    "print(submission_generator.make_short_sentence(200, test_output=False))"
   ]
  },
  {
   "cell_type": "code",
   "execution_count": 32,
   "metadata": {},
   "outputs": [
    {
     "name": "stdout",
     "output_type": "stream",
     "text": [
      "I’m a mother and I apologized and refunded me and again was planning a meet up with him.\n"
     ]
    }
   ],
   "source": [
    "print(submission_generator.make_short_sentence(200, test_output=False))"
   ]
  },
  {
   "cell_type": "code",
   "execution_count": 33,
   "metadata": {},
   "outputs": [
    {
     "name": "stdout",
     "output_type": "stream",
     "text": [
      "This is happening this week she normally works 28 to 36 hours a week than what I make the attempt to hide anyways?\n"
     ]
    }
   ],
   "source": [
    "print(submission_generator.make_short_sentence(200, test_output=False))"
   ]
  },
  {
   "cell_type": "code",
   "execution_count": 34,
   "metadata": {},
   "outputs": [
    {
     "name": "stdout",
     "output_type": "stream",
     "text": [
      "I got myself in order to maintain and learn how to stand up for it.\n"
     ]
    }
   ],
   "source": [
    "print(submission_generator.make_short_sentence(200, test_output=False))"
   ]
  },
  {
   "cell_type": "code",
   "execution_count": 35,
   "metadata": {},
   "outputs": [
    {
     "name": "stdout",
     "output_type": "stream",
     "text": [
      "Why would he do that.\n"
     ]
    }
   ],
   "source": [
    "print(submission_generator.make_short_sentence(200, test_output=False))"
   ]
  },
  {
   "cell_type": "code",
   "execution_count": 36,
   "metadata": {},
   "outputs": [
    {
     "name": "stdout",
     "output_type": "stream",
     "text": [
      "I had completely forgotten about the lie and he got us to put on he vanishes leaving me just as much context as I could.\n"
     ]
    }
   ],
   "source": [
    "print(submission_generator.make_short_sentence(200, test_output=False))"
   ]
  },
  {
   "cell_type": "code",
   "execution_count": 37,
   "metadata": {},
   "outputs": [
    {
     "name": "stdout",
     "output_type": "stream",
     "text": [
      "I hate arguing over petty shit, and takes a lot of all the arguments by conceding everytime and letting her name again when she can.\n"
     ]
    }
   ],
   "source": [
    "print(submission_generator.make_short_sentence(200, test_output=False))"
   ]
  },
  {
   "cell_type": "code",
   "execution_count": 38,
   "metadata": {},
   "outputs": [
    {
     "name": "stdout",
     "output_type": "stream",
     "text": [
      "Should I have asked her how long it melts the side because in that regard.\n"
     ]
    }
   ],
   "source": [
    "print(submission_generator.make_sentence())"
   ]
  },
  {
   "cell_type": "code",
   "execution_count": 40,
   "metadata": {},
   "outputs": [
    {
     "name": "stdout",
     "output_type": "stream",
     "text": [
      "AITA: Yelled at my sister a lesson?\n"
     ]
    }
   ],
   "source": [
    "print(title_generator.make_sentence())"
   ]
  },
  {
   "cell_type": "code",
   "execution_count": 41,
   "metadata": {},
   "outputs": [
    {
     "name": "stdout",
     "output_type": "stream",
     "text": [
      "AITA for not reporting my brother doing zoom classes from the kitchen?\n"
     ]
    }
   ],
   "source": [
    "print(title_generator.make_sentence())"
   ]
  },
  {
   "cell_type": "code",
   "execution_count": 43,
   "metadata": {},
   "outputs": [
    {
     "name": "stdout",
     "output_type": "stream",
     "text": [
      "AITA for not wanting to make decisions about my butt towel?\n"
     ]
    }
   ],
   "source": [
    "print(title_generator.make_sentence())"
   ]
  },
  {
   "cell_type": "code",
   "execution_count": 49,
   "metadata": {},
   "outputs": [
    {
     "name": "stdout",
     "output_type": "stream",
     "text": [
      "WIBTA for telling my fiance that his dad isn’t his biological father?\n"
     ]
    }
   ],
   "source": [
    "print(title_generator.make_sentence())"
   ]
  },
  {
   "cell_type": "code",
   "execution_count": null,
   "metadata": {},
   "outputs": [],
   "source": []
  }
 ],
 "metadata": {
  "kernelspec": {
   "display_name": "Python 3",
   "language": "python",
   "name": "python3"
  },
  "language_info": {
   "codemirror_mode": {
    "name": "ipython",
    "version": 3
   },
   "file_extension": ".py",
   "mimetype": "text/x-python",
   "name": "python",
   "nbconvert_exporter": "python",
   "pygments_lexer": "ipython3",
   "version": "3.8.2"
  }
 },
 "nbformat": 4,
 "nbformat_minor": 4
}
